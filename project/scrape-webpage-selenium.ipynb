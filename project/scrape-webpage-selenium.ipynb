{
 "cells": [
  {
   "cell_type": "code",
   "execution_count": 4,
   "id": "afb1f5bc-56fa-48d8-99d9-695807ac8ce3",
   "metadata": {},
   "outputs": [],
   "source": [
    "# SELENIUM AND SOUP\n",
    "\n",
    "from bs4 import BeautifulSoup\n",
    "from selenium import webdriver\n",
    "import time\n",
    "\n",
    "# start web browser\n",
    "browser = webdriver.Chrome()\n",
    "\n",
    "# get source code\n",
    "browser.get(\"https://fonts.google.com/icons?icon.set=Material+Symbols&icon.style=Sharp\")\n",
    "data = browser.page_source\n",
    "time.sleep(2)\n",
    "\n",
    "# prettify\n",
    "soup = BeautifulSoup(data)\n",
    "html = soup.prettify()\n",
    "\n",
    "# print to the file\n",
    "print(html, file=open('data-output.txt', 'w'))\n",
    "\n",
    "# close web browser\n",
    "browser.close()"
   ]
  },
  {
   "cell_type": "code",
   "execution_count": null,
   "id": "037e0e5f-81ab-40b6-b6f0-ae8ae417613f",
   "metadata": {},
   "outputs": [],
   "source": []
  }
 ],
 "metadata": {
  "kernelspec": {
   "display_name": "Python 3 (ipykernel)",
   "language": "python",
   "name": "python3"
  },
  "language_info": {
   "codemirror_mode": {
    "name": "ipython",
    "version": 3
   },
   "file_extension": ".py",
   "mimetype": "text/x-python",
   "name": "python",
   "nbconvert_exporter": "python",
   "pygments_lexer": "ipython3",
   "version": "3.8.10"
  }
 },
 "nbformat": 4,
 "nbformat_minor": 5
}
