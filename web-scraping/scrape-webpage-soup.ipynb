{
 "cells": [
  {
   "cell_type": "code",
   "execution_count": 27,
   "id": "cb47985d-e45f-4585-9e74-74ab85d2a381",
   "metadata": {},
   "outputs": [
    {
     "data": {
      "text/plain": [
       "<Response [200]>"
      ]
     },
     "execution_count": 27,
     "metadata": {},
     "output_type": "execute_result"
    }
   ],
   "source": [
    "# MECHANICALSOUP\n",
    "\n",
    "import mechanicalsoup\n",
    "\n",
    "browser = mechanicalsoup.StatefulBrowser()\n",
    "url = \"https://fonts.google.com/icons?icon.set=Material+Symbols&icon.style=Sharp\"\n",
    "browser.open(url)\n",
    "#browser.url == #browser.get_url()\n",
    "#browser.page == #browser.get_current_page()\n",
    "\n",
    "# find all elements with <script> tag\n",
    "browser.page.find_all('script')\n",
    "\n",
    "# close web browser\n",
    "browser.close()"
   ]
  },
  {
   "cell_type": "code",
   "execution_count": 33,
   "id": "eedc81e7-ff0f-48e0-bede-11187e9a2a98",
   "metadata": {},
   "outputs": [
    {
     "name": "stdout",
     "output_type": "stream",
     "text": [
      "<!DOCTYPE html>\n",
      "<html lang=\"en\">\n",
      " <head>\n",
      "  <meta charset=\"utf-8\"/>\n",
      "  <meta content=\"Material Symbols are our newest icons consolidating over 2,500 glyphs in a single font file with a wide range of design variants.\" name=\"description\"/>\n",
      "  <meta content=\"Google Fonts\" property=\"og:site_name\"/>\n",
      "  <meta content=\"https://fonts.google.com/icons\" property=\"og:url\"/>\n",
      "  <meta content=\"Material Symbols and Icons - Google Fonts\" property=\"og:title\"/>\n",
      "  <meta content=\"Material Symbols are our newest icons consolidating over 2,500 glyphs in a single font file with a wide range of design variants.\" property=\"og:description\"/>\n",
      "  <meta content=\"https://www.gstatic.com/images/icons/material/apps/fonts/1x/material-symbols/material_symbols.jpg\" property=\"og:image\"/>\n",
      "  <meta content=\"1200\" property=\"og:image:width\"/>\n",
      "  <meta content=\"630\" property=\"og:image:height\"/>\n",
      "  <meta content=\"image/png\" property=\"og:image:type\">\n",
      "   <meta content=\"summary_large_image\" name=\"twitter:card\"/>\n",
      "   <meta content=\"@googlefonts\" name=\"twitter:site\"/>\n",
      "   <meta content=\"Material Symbols and Icons - Google Fonts\" name=\"twitter:title\"/>\n",
      "   <meta content=\"Material Symbols are our newest icons consolidating over 2,500 glyphs in a single font file with a wide range of design variants.\" name=\"twitter:description\"/>\n",
      "   <meta content=\"https://www.gstatic.com/images/icons/material/apps/fonts/1x/material-symbols/material_symbols.jpg\" name=\"twitter:image\"/>\n",
      "   <meta content=\"website\" property=\"og:type\">\n",
      "    <meta content=\"width=device-width, initial-scale=1\" name=\"viewport\"/>\n",
      "    <link href=\"https://www.gstatic.com/images/icons/material/apps/fonts/1x/catalog/v5/favicon.svg\" rel=\"icon\"/>\n",
      "    <meta content=\"yes\" name=\"apple-mobile-web-app-capable\"/>\n",
      "    <meta content=\"black-translucent\" name=\"apple-mobile-web-app-status-bar-style\"/>\n",
      "    <link href=\"https://www.gstatic.com/images/branding/product/1x/google_fonts_64dp.png\" rel=\"apple-touch-icon\"/>\n",
      "    <link href=\"https://www.gstatic.com/images/branding/product/1x/google_fonts_96dp.png\" rel=\"apple-touch-icon\" sizes=\"96x96\"/>\n",
      "    <link href=\"https://www.gstatic.com/images/branding/product/2x/google_fonts_64dp.png\" rel=\"apple-touch-icon\" sizes=\"128x128\"/>\n",
      "    <link href=\"https://www.gstatic.com/images/branding/product/2x/google_fonts_96dp.png\" rel=\"apple-touch-icon\" sizes=\"192x192\"/>\n",
      "    <link href=\"https://fonts.google.com/icons\" rel=\"canonical\">\n",
      "     <link crossorigin=\"\" href=\"https://fonts.gstatic.com\" rel=\"preconnect\"/>\n",
      "     <style nonce=\"EEax5vEkyYlV5gqIviz46Q\">\n",
      "      @font-face{font-family:'Google Sans';font-style:normal;font-weight:400;font-display:block;src:url(//fonts.gstatic.com/s/googlesans/v29/4UasrENHsxJlGDuGo1OIlJfC6mGS6vhAK1YodMucsih5flDH6MAwhSdTPjIUuA.ttf)format('truetype');}@font-face{font-family:'Google Sans';font-style:normal;font-weight:400;font-display:block;src:url(//fonts.gstatic.com/s/googlesans/v29/4UasrENHsxJlGDuGo1OIlJfC6mGS6vhAK1YobMucsih5flDH6MAwhSdTPjIUuA.ttf)format('truetype');}@font-face{font-family:'Google Sans';font-style:normal;font-weight:500;font-display:block;src:url(//fonts.gstatic.com/s/googlesans/v29/4UasrENHsxJlGDuGo1OIlJfC6mGS6vhAK1YodMucsih5flDH6MAwhRVTPjIUuA.ttf)format('truetype');}@font-face{font-family:'Google Sans';font-style:normal;font-weight:500;font-display:block;src:url(//fonts.gstatic.com/s/googlesans/v29/4UasrENHsxJlGDuGo1OIlJfC6mGS6vhAK1YobMucsih5flDH6MAwhRVTPjIUuA.ttf)format('truetype');}@font-face{font-family:'Google Sans Mono';font-style:normal;font-weight:400;font-display:block;src:url(//fonts.gstatic.com/s/googlesansmono/v15/P5sUzYWFYtnZ_Cg-t0Uq_rfivrdYH4RE8-pZ5gQ1abT53wVQGrw.ttf)format('truetype');}@font-face{font-family:'Google Sans Mono';font-style:normal;font-weight:700;font-display:block;src:url(//fonts.gstatic.com/s/googlesansmono/v15/P5sUzYWFYtnZ_Cg-t0Uq_rfivrdYH4RE8-pZ5gQ1abQe2AVQGrw.ttf)format('truetype');}\n",
      "     </style>\n",
      "     <style nonce=\"EEax5vEkyYlV5gqIviz46Q\">\n",
      "      @font-face {font-family: Tofu;src: url(\"data:font/ttf;base64,AAEAAAAKAIAAAwAgT1MvMkWnTqsAAAEoAAAAYGNtYXAALvz2AAABkAAAAGRnbHlmO2FM+QAAAfwAAAAsaGVhZCSa2JAAAACsAAAANmhoZWEHbgNUAAAA5AAAACRobXR4BBoAAAAAAYgAAAAGbG9jYQAWAAAAAAH0AAAABm1heHAABAAMAAABCAAAACBuYW1l6hJPCQAAAigAAAFHcG9zdAADAAAAAANwAAAAIAABAAAAAQAAboUSyF8PPPUAAwQAAAAAAOEASjwAAAAA4QBKPACWAAAC7gMgAAAAAwACAAAAAAAAAAEAAAPo/zgAAAOEAJYAlgLuAAEAAAAAAAAAAAAAAAAAAAABAAEAAAACAAoAAQAAAAAAAgAAAAAAAAAAAAAAAAAAAAAAAwOEAZAABQAEAAAAAAAAAAAAAAAAAAAAAAAAAAAAAAAAAAAAAAAAAAD///////////////8H////Pz8/PwAAAAH//wPoAAAAAAPoAMgAAAAAAAAAAAAAAAAAAAAgAAADhAAAAJYAAAAAAAMAAAADAAAAHAADAAEAAAAcAAMACgAAADwABAAgAAAABAAEAAEAAAAB//8AAAAB//8AAAABAAAAAAANAAAAAAAoAAAAAAAAAAIAAAACAAD+DgAAAAEAAP4QABD//wAAAAEAAAAAABYAAAABAJYAAALuAyAACQAAMxEhESE3IREhEZYCWP2oMgH0/gwDIPzgMgK8/UQAAAAADACWAAEAAAAAAAEABAAAAAEAAAAAAAIABwAEAAEAAAAAAAMAGQALAAEAAAAAAAQADAAkAAEAAAAAAAUACwAwAAEAAAAAAAYADAAkAAMAAQQJAAEACAA7AAMAAQQJAAIADgBDAAMAAQQJAAMAMgBRAAMAAQQJAAQAGACDAAMAAQQJAAUAFgCbAAMAAQQJAAYAGACDVG9mdVJlZ3VsYXJmb250QnVpbGRlcjogVG9mdS5SZWd1bGFyVG9mdS1SZWd1bGFyVmVyc2lvbiAwLjEAVABvAGYAdQBSAGUAZwB1AGwAYQByAGYAbwBuAHQAQgB1AGkAbABkAGUAcgA6ACAAVABvAGYAdQAuAFIAZQBnAHUAbABhAHIAVABvAGYAdQAtAFIAZQBnAHUAbABhAHIAVgBlAHIAcwBpAG8AbgAgADAALgAxAAADAAAAAAAAAAAAAAAAAAAAAAAAAAAAAAAAAAAAAAAA\");}\n",
      "     </style>\n",
      "     <link href=\"//www.gstatic.com/_/fonts/_/ss/k=fonts.app.PrEMCGDPs-k.L.W.O/d=0/br=1/rs=AE60u5d6WPooiGEdsnUg6uNOmqkAexBALg\" id=\"app-css\" nonce=\"EEax5vEkyYlV5gqIviz46Q\" rel=\"stylesheet\"/>\n",
      "     <title>\n",
      "      Material Symbols and Icons - Google Fonts\n",
      "     </title>\n",
      "     <base href=\"/\" target=\"_blank\"/>\n",
      "     <script async=\"\" nonce=\"MVM-y0UJrO3YH5qClSkk7A\" src=\"https://www.googletagmanager.com/gtag/js?id=G-XPW1QSKFW4\">\n",
      "     </script>\n",
      "     <script nonce=\"MVM-y0UJrO3YH5qClSkk7A\">\n",
      "      window.dataLayer = window.dataLayer || [];function gtag(){dataLayer.push(arguments);}window['GA_TRACKING_ID'] = 'G-XPW1QSKFW4'; gtag('js', new Date()); gtag('config', window['GA_TRACKING_ID'], {'anonymize_ip': true, 'referrer' : document.referrer.split('?')[0],});\n",
      "     </script>\n",
      "    </link>\n",
      "   </meta>\n",
      "  </meta>\n",
      " </head>\n",
      " <body itemscope=\"\" itemtype=\"http://schema.org/WebPage\">\n",
      "  <gf-root>\n",
      "  </gf-root>\n",
      "  <script nonce=\"MVM-y0UJrO3YH5qClSkk7A\">\n",
      "   window['CONFIG'] = 'WyJjb25maWciLFsiZmVhdHVyZXMiLDAsMCwwLDAsMSwwLDBdLCIvIiwiLyIsIi8vIiwiZm9udHMuZ29vZ2xlYXBpcy5jb20iLDAsMCwwLFs3MTMyNTk1Ml0sMCwxLDEsIjEwMjU2OTUiXQ\\x3d\\x3d';if ('serviceWorker' in navigator) {navigator.serviceWorker.register('/sw.js', {scope: '/'}) .then(registration => registration.update());}\n",
      "  </script>\n",
      "  <script id=\"base-js\" nonce=\"MVM-y0UJrO3YH5qClSkk7A\" src=\"//www.gstatic.com/_/fonts/_/js/k=fonts.app.en_US.GpshubhEeNg.es5.O/d=1/br=1/rs=AE60u5fH6vYjYZ8Ds2WRGOfuvVUgPsRQ2Q/m=core\">\n",
      "  </script>\n",
      "  <script async=\"\" nonce=\"MVM-y0UJrO3YH5qClSkk7A\" src=\"https://ssl.gstatic.com/external_hosted/lottie/lottie_light.js\">\n",
      "  </script>\n",
      " </body>\n",
      "</html>\n",
      "\n"
     ]
    }
   ],
   "source": [
    "# BEAUTIFULSOUP\n",
    "\n",
    "from bs4 import BeautifulSoup\n",
    "import requests\n",
    "\n",
    "# get html [static] for the page\n",
    "url = 'https://fonts.google.com/icons?icon.set=Material+Symbols&icon.style=Sharp'\n",
    "res = requests.get(url)\n",
    "soup = BeautifulSoup(res.text,'html.parser')\n",
    "print(soup.prettify())\n",
    "\n",
    "# close web browser\n",
    "browser.close()"
   ]
  }
 ],
 "metadata": {
  "kernelspec": {
   "display_name": "Python 3 (ipykernel)",
   "language": "python",
   "name": "python3"
  },
  "language_info": {
   "codemirror_mode": {
    "name": "ipython",
    "version": 3
   },
   "file_extension": ".py",
   "mimetype": "text/x-python",
   "name": "python",
   "nbconvert_exporter": "python",
   "pygments_lexer": "ipython3",
   "version": "3.8.10"
  }
 },
 "nbformat": 4,
 "nbformat_minor": 5
}
